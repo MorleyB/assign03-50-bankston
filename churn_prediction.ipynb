{
  "nbformat": 4,
  "nbformat_minor": 0,
  "metadata": {
    "colab": {
      "name": "churn-prediction.ipynb",
      "provenance": [],
      "authorship_tag": "ABX9TyN+rPLpsym/DDdhi5wOpTGz",
      "include_colab_link": true
    },
    "kernelspec": {
      "name": "python3",
      "display_name": "Python 3"
    },
    "language_info": {
      "name": "python"
    }
  },
  "cells": [
    {
      "cell_type": "markdown",
      "metadata": {
        "id": "view-in-github",
        "colab_type": "text"
      },
      "source": [
        "<a href=\"https://colab.research.google.com/github/MorleyB/assign03-50-bankston/blob/feature%2Fadd-tasks/churn_prediction.ipynb\" target=\"_parent\"><img src=\"https://colab.research.google.com/assets/colab-badge.svg\" alt=\"Open In Colab\"/></a>"
      ]
    },
    {
      "cell_type": "markdown",
      "source": [
        "# **Machine Learning using scikit-learn.**"
      ],
      "metadata": {
        "id": "0xk_ZeIqMid1"
      }
    },
    {
      "cell_type": "markdown",
      "source": [
        "## Load Data"
      ],
      "metadata": {
        "id": "t7htfw8DMWaV"
      }
    },
    {
      "cell_type": "markdown",
      "source": [
        "## Data cleaning and EDA"
      ],
      "metadata": {
        "id": "YueCAlF5McCD"
      }
    },
    {
      "cell_type": "markdown",
      "source": [
        "## Establish the training pipeline"
      ],
      "metadata": {
        "id": "cnQQI07fM1h2"
      }
    },
    {
      "cell_type": "markdown",
      "source": [
        "## Cross-validation with hyperparameter tuning"
      ],
      "metadata": {
        "id": "YyhGI3JwM6Du"
      }
    }
  ]
}